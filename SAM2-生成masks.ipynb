{
 "cells": [
  {
   "metadata": {},
   "cell_type": "markdown",
   "source": [
    "# 使用SAM2对图像进行分割标注\n",
    "相比上一版,将SAM预训练模型更改为SAM2,SAM2相比较SAM1,将模型从SVM更改为Transformer,提高了泛化能力和微调效果.\n",
    "\n",
    "**参考文献:**\n",
    "- [SAM2 Paper](https://ai.meta.com/research/publications/sam-2-segment-anything-in-images-and-videos/)\n",
    "- [SAM2 - GitHub](https://github.com/facebookresearch/segment-anything-2)\n",
    "- [(Official)SAM2 Image Predictor Example notebook - GitHub](https://github.com/facebookresearch/segment-anything-2/blob/main/notebooks/image_predictor_example.ipynb)\n",
    "- [(Official)Automatic Mask Generator Example notebook - GitHub](https://github.com/facebookresearch/segment-anything-2/blob/main/notebooks/automatic_mask_generator_example.ipynb)\n",
    "\n",
    "## SVM2主要优势有:\n",
    "- 提升了预训练模型的微调效果.\n",
    "- 除了支持视频处理外,图像分割的准确度和速度都比SAM1有所提升.\n",
    "- 可以将一组图片视为同一个序列来处理,可能可以解决单张图片不能输入全部信息的情况.\n",
    "\n",
    "## 预计下一步:\n",
    "1. 参考其他开放数据集的图像和数据标注方式,设计一个自己标注数据的方法\n",
    "2. 设计根据模型预测masks找出多边形顶点的方法\n",
    "    - 可能使用opencv库或者别的小规模机器学习模型识别,因为masks中像素点可能不完全连续,需要测试后确定\n",
    "    - 尝试是否可以让模型把每个缺陷部分都拆分成单独的masks组,之后再找顶点坐标,提升并发效率\n",
    "    - 是否需要按面积/具体边数标记缺陷\n",
    "3. 使用其他开放数据集微调模型,之后与原来的预训练模型效果比较,估测较好结果可能需要的数据量\n",
    "4. \n",
    "\n",
    "## 预计使用的其他类型开放数据集\n",
    "部分来源(有一组表面缺陷识别的开放数据集和paper): [GitHub - Surface Defect Detection: Dataset & Papers](https://github.com/Charmve/Surface-Defect-Detection)\n",
    "1. 医学超声\n",
    "2. 钢材缺陷 [Kaggle - Severstal: Steel Defect Detection](https://www.kaggle.com/c/severstal-steel-defect-detection/data)\n",
    "3. "
   ],
   "id": "dbfd63cd2bb4d58c"
  },
  {
   "metadata": {},
   "cell_type": "markdown",
   "source": "导入所需库及最大的预训练模型",
   "id": "cc5d209cfc7f4fe5"
  },
  {
   "metadata": {
    "ExecuteTime": {
     "end_time": "2024-09-11T01:51:55.716042Z",
     "start_time": "2024-09-11T01:51:52.311736Z"
    }
   },
   "cell_type": "code",
   "source": [
    "from numbers import Number\n",
    "\n",
    "import torch\n",
    "from sam2.build_sam import build_sam2\n",
    "from sam2.sam2_image_predictor import SAM2ImagePredictor\n",
    "from torch.utils.data import DataLoader\n",
    "import numpy as np\n",
    "import torch\n",
    "import matplotlib.pyplot as plt\n",
    "import cv2\n",
    "\n",
    "# 选择运行设备\n",
    "if torch.cuda.is_available():\n",
    "    device = torch.device(\"cuda\")\n",
    "elif torch.backends.mps.is_available():\n",
    "    device = torch.device(\"mps\")\n",
    "else:\n",
    "    device = torch.device(\"cpu\")\n",
    "print(f\"using device: {device}\")\n",
    "\n",
    "checkpoint = \"./checkpoints/sam2_hiera_large.pt\"\n",
    "model_cfg = \"sam2_hiera_l.yaml\"\n",
    "predictor = SAM2ImagePredictor(build_sam2(model_cfg, checkpoint))\n"
   ],
   "id": "32f6fba70b8022a1",
   "outputs": [
    {
     "name": "stdout",
     "output_type": "stream",
     "text": [
      "using device: cuda\n"
     ]
    }
   ],
   "execution_count": 2
  },
  {
   "metadata": {},
   "cell_type": "markdown",
   "source": "定义过程中的输出函数",
   "id": "74281acfc80e0221"
  },
  {
   "metadata": {
    "ExecuteTime": {
     "end_time": "2024-09-11T03:54:52.503159Z",
     "start_time": "2024-09-11T03:54:52.465632Z"
    }
   },
   "cell_type": "code",
   "outputs": [
    {
     "ename": "NameError",
     "evalue": "name 'Callable' is not defined",
     "output_type": "error",
     "traceback": [
      "\u001B[0;31m---------------------------------------------------------------------------\u001B[0m",
      "\u001B[0;31mNameError\u001B[0m                                 Traceback (most recent call last)",
      "Cell \u001B[0;32mIn[3], line 73\u001B[0m\n\u001B[1;32m     68\u001B[0m     boundary_list \u001B[38;5;241m=\u001B[39m []\n\u001B[1;32m     70\u001B[0m     \u001B[38;5;28;01mreturn\u001B[39;00m boundary_list\n\u001B[0;32m---> 73\u001B[0m \u001B[38;5;28;43;01mclass\u001B[39;49;00m\u001B[43m \u001B[49m\u001B[38;5;21;43;01mChipDefectDataSheetLoader\u001B[39;49;00m\u001B[43m(\u001B[49m\u001B[43mtorch\u001B[49m\u001B[38;5;241;43m.\u001B[39;49m\u001B[43mutils\u001B[49m\u001B[38;5;241;43m.\u001B[39;49m\u001B[43mdata\u001B[49m\u001B[38;5;241;43m.\u001B[39;49m\u001B[43mDataset\u001B[49m\u001B[43m)\u001B[49m\u001B[43m:\u001B[49m\n\u001B[1;32m     74\u001B[0m \u001B[38;5;250;43m    \u001B[39;49m\u001B[38;5;124;43;03m\"\"\"\u001B[39;49;00m\n\u001B[1;32m     75\u001B[0m \u001B[38;5;124;43;03m    数据加载器类\u001B[39;49;00m\n\u001B[1;32m     76\u001B[0m \u001B[38;5;124;43;03m    \"\"\"\u001B[39;49;00m\n\u001B[1;32m     78\u001B[0m \u001B[43m    \u001B[49m\u001B[38;5;28;43;01mdef\u001B[39;49;00m\u001B[43m \u001B[49m\u001B[38;5;21;43m__init__\u001B[39;49m\u001B[43m(\u001B[49m\u001B[38;5;28;43mself\u001B[39;49m\u001B[43m,\u001B[49m\u001B[43m \u001B[49m\u001B[43mimage_paths\u001B[49m\u001B[43m:\u001B[49m\u001B[43m \u001B[49m\u001B[38;5;28;43mlist\u001B[39;49m\u001B[43m[\u001B[49m\u001B[38;5;28;43mstr\u001B[39;49m\u001B[43m]\u001B[49m\u001B[43m,\u001B[49m\u001B[43m \u001B[49m\u001B[43mmask_paths\u001B[49m\u001B[43m:\u001B[49m\u001B[43m \u001B[49m\u001B[38;5;28;43mlist\u001B[39;49m\u001B[43m[\u001B[49m\u001B[38;5;28;43mstr\u001B[39;49m\u001B[43m]\u001B[49m\u001B[43m,\u001B[49m\n\u001B[1;32m     79\u001B[0m \u001B[43m                 \u001B[49m\u001B[43mtransform\u001B[49m\u001B[43m:\u001B[49m\u001B[43m \u001B[49m\u001B[43mCallable\u001B[49m\u001B[43m \u001B[49m\u001B[38;5;241;43m=\u001B[39;49m\u001B[43m \u001B[49m\u001B[38;5;28;43;01mNone\u001B[39;49;00m\u001B[43m)\u001B[49m\u001B[43m \u001B[49m\u001B[38;5;241;43m-\u001B[39;49m\u001B[38;5;241;43m>\u001B[39;49m\u001B[43m \u001B[49m\u001B[38;5;28;43;01mNone\u001B[39;49;00m\u001B[43m:\u001B[49m\u001B[43m  \u001B[49m\u001B[38;5;66;43;03m# transform是转换函数\u001B[39;49;00m\n",
      "Cell \u001B[0;32mIn[3], line 79\u001B[0m, in \u001B[0;36mChipDefectDataSheetLoader\u001B[0;34m()\u001B[0m\n\u001B[1;32m     73\u001B[0m \u001B[38;5;28;01mclass\u001B[39;00m \u001B[38;5;21;01mChipDefectDataSheetLoader\u001B[39;00m(torch\u001B[38;5;241m.\u001B[39mutils\u001B[38;5;241m.\u001B[39mdata\u001B[38;5;241m.\u001B[39mDataset):\n\u001B[1;32m     74\u001B[0m \u001B[38;5;250m    \u001B[39m\u001B[38;5;124;03m\"\"\"\u001B[39;00m\n\u001B[1;32m     75\u001B[0m \u001B[38;5;124;03m    数据加载器类\u001B[39;00m\n\u001B[1;32m     76\u001B[0m \u001B[38;5;124;03m    \"\"\"\u001B[39;00m\n\u001B[1;32m     78\u001B[0m     \u001B[38;5;28;01mdef\u001B[39;00m \u001B[38;5;21m__init__\u001B[39m(\u001B[38;5;28mself\u001B[39m, image_paths: \u001B[38;5;28mlist\u001B[39m[\u001B[38;5;28mstr\u001B[39m], mask_paths: \u001B[38;5;28mlist\u001B[39m[\u001B[38;5;28mstr\u001B[39m],\n\u001B[0;32m---> 79\u001B[0m                  transform: \u001B[43mCallable\u001B[49m \u001B[38;5;241m=\u001B[39m \u001B[38;5;28;01mNone\u001B[39;00m) \u001B[38;5;241m-\u001B[39m\u001B[38;5;241m>\u001B[39m \u001B[38;5;28;01mNone\u001B[39;00m:  \u001B[38;5;66;03m# transform是转换函数\u001B[39;00m\n\u001B[1;32m     80\u001B[0m         \u001B[38;5;28mself\u001B[39m\u001B[38;5;241m.\u001B[39mimage_paths \u001B[38;5;241m=\u001B[39m image_paths\n\u001B[1;32m     81\u001B[0m         \u001B[38;5;28mself\u001B[39m\u001B[38;5;241m.\u001B[39mmask_paths \u001B[38;5;241m=\u001B[39m mask_paths\n",
      "\u001B[0;31mNameError\u001B[0m: name 'Callable' is not defined"
     ]
    }
   ],
   "execution_count": 3,
   "source": [
    "np.random.seed(3)\n",
    "\n",
    "\n",
    "def show_mask(mask, ax, random_color=False, borders=True):\n",
    "    if random_color:\n",
    "        color = np.concatenate([np.random.random(3), np.array([0.6])], axis=0)\n",
    "    else:\n",
    "        color = np.array([30 / 255, 144 / 255, 255 / 255, 0.6])\n",
    "    h, w = mask.shape[-2:]\n",
    "    mask = mask.astype(np.uint8)\n",
    "    mask_image = mask.reshape(h, w, 1) * color.reshape(1, 1, -1)\n",
    "    if borders:\n",
    "        import cv2\n",
    "        contours, _ = cv2.findContours(mask, cv2.RETR_EXTERNAL, cv2.CHAIN_APPROX_NONE)\n",
    "        # Try to smooth contours\n",
    "        contours = [cv2.approxPolyDP(contour, epsilon=0.01, closed=True) for contour in contours]\n",
    "        mask_image = cv2.drawContours(mask_image, contours, -1, (1, 1, 1, 0.5), thickness=2)\n",
    "    ax.imshow(mask_image)\n",
    "\n",
    "\n",
    "def show_points(coords, labels, ax, marker_size=375):\n",
    "    pos_points = coords[labels == 1]\n",
    "    neg_points = coords[labels == 0]\n",
    "    ax.scatter(pos_points[:, 0], pos_points[:, 1], color='green', marker='*', s=marker_size, edgecolor='white',\n",
    "               linewidth=1.25)\n",
    "    ax.scatter(neg_points[:, 0], neg_points[:, 1], color='red', marker='*', s=marker_size, edgecolor='white',\n",
    "               linewidth=1.25)\n",
    "\n",
    "\n",
    "def show_box(box, ax):\n",
    "    x0, y0 = box[0], box[1]\n",
    "    w, h = box[2] - box[0], box[3] - box[1]\n",
    "    ax.add_patch(plt.Rectangle((x0, y0), w, h, edgecolor='green', facecolor=(0, 0, 0, 0), lw=2))\n",
    "\n",
    "\n",
    "def show_masks(image, masks, scores, point_coords=None, box_coords=None, input_labels=None, borders=True):\n",
    "    for i, (mask, score) in enumerate(zip(masks, scores)):\n",
    "        plt.figure(figsize=(10, 10))\n",
    "        plt.imshow(image)\n",
    "        show_mask(mask, plt.gca(), borders=borders)\n",
    "        if point_coords is not None:\n",
    "            assert input_labels is not None\n",
    "            show_points(point_coords, input_labels, plt.gca())\n",
    "        if box_coords is not None:\n",
    "            # boxes\n",
    "            show_box(box_coords, plt.gca())\n",
    "        if len(scores) > 1:\n",
    "            plt.title(f\"Mask {i + 1}, Score: {score:.3f}\", fontsize=18)\n",
    "        plt.axis('off')\n",
    "        plt.show()\n",
    "\n",
    "\n",
    "def find_polygon_boundary(matrix: np.ndarray):\n",
    "    \"\"\"\n",
    "    从二维布尔矩阵(如图形masks)中找到多边形顶点\n",
    "    Args:\n",
    "        matrix (np.ndarray): 单个2D numpy数组,True代表包含于多边形中.\n",
    "    Returns:\n",
    "        以元组形式存储单个多边形顶点的坐标,将所有顶点以列表形式返回\n",
    "    \"\"\"\n",
    "    # 设定矩阵数据类型\n",
    "    matrix = np.asarray(matrix, dtype=bool)\n",
    "    # 创建空矩阵\n",
    "    boundary = np.zeros_like(matrix, dtype=bool)\n",
    "\n",
    "    pass\n",
    "\n",
    "    boundary_list = []\n",
    "\n",
    "    return boundary_list\n",
    "\n",
    "\n",
    "class ChipDefectDatasetLoader(torch.utils.data.Dataset):\n",
    "    \"\"\"\n",
    "    数据加载器类\n",
    "    \"\"\"\n",
    "    def __init__(self, image_paths: list[str], mask_paths: list[str]) -> None:  # transform是转换函数\n",
    "        self.image_paths = image_paths\n",
    "        self.mask_paths = mask_paths\n",
    "\n",
    "    def __len__(self) -> Number:\n",
    "        return len(self.image_paths)\n",
    "\n",
    "    def __getitem__(self, idx: int):\n",
    "        image = cv2.imread(self.image_paths[idx])\n",
    "        mask = cv2.imread(self.mask_paths[idx])\n",
    "        if self.transform:\n",
    "            image = self.transform(image)\n",
    "            mask = self.transform(mask)\n",
    "\n",
    "        return image, mask\n",
    "        "
   ],
   "id": "c4f3fe66e39334e1"
  },
  {
   "metadata": {},
   "cell_type": "code",
   "outputs": [],
   "execution_count": null,
   "source": [
    "# 加载训练数据\n",
    "image_paths = [\"./dataset/images\"]\n",
    "mask_paths = [\"./dataset/masks\"]\n",
    "train_dataset = ChipDefectDatasetLoader(image_paths, mask_paths)\n",
    "train_loader = DataLoader(train_dataset, batch_size=8, shuffle=True)"
   ],
   "id": "6b733ef211910da2"
  },
  {
   "metadata": {},
   "cell_type": "code",
   "outputs": [],
   "execution_count": null,
   "source": [
    "# 定义优化器和损失函数\n",
    "optimizer = torch.optim.Adam(predictor.parameters(), lr=1e-4)\n",
    "criterion = torch.nn.CrossEntropyLoss()"
   ],
   "id": "5c8fed238d9369f8"
  },
  {
   "metadata": {},
   "cell_type": "code",
   "outputs": [],
   "execution_count": null,
   "source": [
    "# 开始训练\n",
    "for epoch in range(num_epochs):\n",
    "    sam_predictor.train()\n",
    "    running_loss = 0.0\n",
    "    for images, masks in train_loader:\n",
    "        optimizer.zero_grad()\n",
    "\n",
    "        # 模型前向传播\n",
    "        masks_pred = predictor(images)\n",
    "\n",
    "        # 计算损失\n",
    "        loss = criterion(masks_pred, masks)\n",
    "        loss.backward()\n",
    "        optimizer.step()\n",
    "\n",
    "        running_loss += loss.item()\n",
    "    print(f'Epoch [{epoch+1}/{num_epochs}], Loss: {running_loss/len(train_loader)}')"
   ],
   "id": "7dd1a6247b601f7e"
  }
 ],
 "metadata": {
  "kernelspec": {
   "display_name": "Python 3",
   "language": "python",
   "name": "python3"
  },
  "language_info": {
   "codemirror_mode": {
    "name": "ipython",
    "version": 2
   },
   "file_extension": ".py",
   "mimetype": "text/x-python",
   "name": "python",
   "nbconvert_exporter": "python",
   "pygments_lexer": "ipython2",
   "version": "2.7.6"
  }
 },
 "nbformat": 4,
 "nbformat_minor": 5
}
