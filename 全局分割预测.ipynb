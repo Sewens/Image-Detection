{
 "cells": [
  {
   "cell_type": "markdown",
   "id": "124ba1f0-0599-4fa5-9670-65bdbc228226",
   "metadata": {},
   "source": [
    "# 全局分割预测"
   ]
  },
  {
   "cell_type": "markdown",
   "id": "830f10cc-dd50-4d03-b40c-c63a950f25f5",
   "metadata": {},
   "source": [
    "## 导入相关库和优化可视化效果"
   ]
  },
  {
   "cell_type": "code",
   "execution_count": null,
   "id": "26fb2e67-3c2e-4ff1-a6bf-0c188dfdc0d0",
   "metadata": {},
   "outputs": [],
   "source": [
    "import numpy as np\n",
    "import torch\n",
    "import matplotlib.pyplot as plt\n",
    "import cv2\n",
    "\n",
    "def show_anns(anns):\n",
    "    if len(anns) == 0:\n",
    "        return\n",
    "    sorted_anns = sorted(anns, key=(lambda x: x['area']), reverse=True)\n",
    "    ax = plt.gca()\n",
    "    ax.set_autoscale_on(False)\n",
    "    polygons = []\n",
    "    color = []\n",
    "    for ann in sorted_anns:\n",
    "        m = ann['segmentation']\n",
    "        img = np.ones((m.shape[0], m.shape[1], 3))\n",
    "        color_mask = np.random.random((1, 3)).tolist()[0]\n",
    "        for i in range(3):\n",
    "            img[:,:,i] = color_mask[i]\n",
    "        ax.imshow(np.dstack((img, m*0.35)))\n"
   ]
  },
  {
   "cell_type": "markdown",
   "id": "c5c162af-5e54-4059-b612-3b825546783a",
   "metadata": {},
   "source": [
    "## 读取数据"
   ]
  },
  {
   "cell_type": "code",
   "execution_count": null,
   "id": "8c3e960f-061e-4538-9010-8628beb80138",
   "metadata": {},
   "outputs": [],
   "source": [
    "image = cv2.imread('./pics/AdobeStock_94274587_welsh_corgi_pembroke_CD.jpg')\n",
    "# 还原原图像色彩\n",
    "image = cv2.cvtColor(image, cv2.COLOR_BGR2RGB)\n",
    "plt.figure(figsize=(10,10))\n",
    "plt.imshow(image)\n",
    "plt.axis('on')\n",
    "plt.show()\n"
   ]
  },
  {
   "cell_type": "markdown",
   "id": "9f371aa3-cb5e-4b5a-97a3-0970ad04d378",
   "metadata": {},
   "source": [
    "## 加载模型"
   ]
  },
  {
   "cell_type": "code",
   "execution_count": null,
   "id": "cd7163fa-d01e-49f2-a87a-5374d4e22605",
   "metadata": {},
   "outputs": [],
   "source": [
    "import sys\n",
    "from segment_anything import sam_model_registry, SamAutomaticMaskGenerator, SamPredictor\n",
    "\n",
    "# 加载模型\n",
    "sam_checkpoint = './models/sam_vit_h_4b8939.pth'\n",
    "model_type = \"vit_h\"\n",
    "\n",
    "device = \"cuda\"\n",
    "\n",
    "sam = sam_model_registry[model_type](checkpoint=sam_checkpoint)\n",
    "sam.to(device=device)\n",
    "\n",
    "# 调用全局分割模型\n",
    "mask_generator = SamAutomaticMaskGenerator(sam)\n"
   ]
  },
  {
   "cell_type": "markdown",
   "id": "0a472de2-d599-4c3d-ba50-0da13dd42cd4",
   "metadata": {},
   "source": [
    "## 预测并输出可视化结果"
   ]
  },
  {
   "cell_type": "code",
   "execution_count": null,
   "id": "5432a18f-1427-4a60-a2f4-3c896b2510de",
   "metadata": {},
   "outputs": [],
   "source": [
    "masks = mask_generator.generate(image)\n",
    "print(len(masks)) # 产生的掩码数量\n",
    "print(masks[0].keys()) # 第1个掩码内的相关属性\n",
    "\n",
    "plt.figure(figsize=(10,10))\n",
    "plt.imshow(image)\n",
    "show_anns(masks)\n",
    "plt.axis('off')\n",
    "plt.show() \n"
   ]
  },
  {
   "cell_type": "markdown",
   "id": "e655eca1-eb21-4f69-9188-92b447f19514",
   "metadata": {},
   "source": [
    "## 调整相关参数"
   ]
  },
  {
   "cell_type": "code",
   "execution_count": null,
   "id": "4b8fd0d9-e02d-4885-8158-268a5b48f0ac",
   "metadata": {},
   "outputs": [],
   "source": [
    "# 配置相关参数\n",
    "mask_generator_2 = SamAutomaticMaskGenerator(\n",
    "    model=sam,\n",
    "    points_per_side=32,\n",
    "    pred_iou_thresh=0.86, # IOU阈值\n",
    "    stability_score_thresh=0.92, # 稳定性得分阈值\n",
    "    crop_n_layers=1, \n",
    "    crop_n_points_downscale_factor=2,\n",
    "    min_mask_region_area=100,  # Requires open-cv to run post-processing\n",
    ")\n",
    "\n",
    "masks2 = mask_generator_2.generate(image)\n",
    "print(len(masks2)) # 产生的掩码数量\n",
    "print(masks2[0].keys())"
   ]
  },
  {
   "cell_type": "markdown",
   "id": "ba1e1e7e-b3ec-4f56-b46f-12582f59b20f",
   "metadata": {},
   "source": [
    "## 可视化结果"
   ]
  },
  {
   "cell_type": "code",
   "execution_count": null,
   "id": "6691276d-de01-40be-9f69-654218593208",
   "metadata": {},
   "outputs": [],
   "source": [
    "plt.figure(figsize=(10,10))\n",
    "plt.imshow(image)\n",
    "show_anns(masks2)\n",
    "plt.axis('off')\n",
    "plt.show() "
   ]
  },
  {
   "cell_type": "markdown",
   "id": "7f207bb6-f5d8-4813-864d-6e016a71fcf8",
   "metadata": {},
   "source": [
    "## SamAutomaticMaskGenerator()参数详解：\n",
    "\n",
    "-  model (Sam):用于掩膜预测的SAM模型。\n",
    "- points_per_side (int or None): 沿着图像一侧采样的点的数量。点的总数是point_per_side**2。如果没有，'point_grids’必须提供明确的点采样。\n",
    "- points_per_batch (int):设置模型同时运行的点的数量。更高的数字可能会更快，但会使用更多的GPU内存。\n",
    "- pred_iou_thresh (float): 滤波阈值，在[0,1]中，使用模型的预测掩膜质量。\n",
    "- stability_score_thresh (float):滤波阈值，在[0,1]中，使用掩码在用于二进制化模型的掩码预测的截止点变化下的稳定性。\n",
    "- stability_score_offset (float):计算稳定性分数时，对截止点的偏移量。\n",
    "- box_nms_thresh (float):非最大抑制用于过滤重复掩码的箱体IoU截止点。\n",
    "- crop_n_layers (int):如果>0，蒙版预测将在图像的裁剪上再次运行。设置运行的层数，其中每层有2**i_layer的图像裁剪数。\n",
    "- crop_nms_thresh (float):非最大抑制用于过滤不同作物之间的重复掩码的箱体IoU截止值。\n",
    "crop_overlap_ratio (float):设置作物重叠的程度。在第一个作物层中，作物将以图像长度的这个分数重叠。在第一个裁剪层中，裁剪物将以图像长度的这一比例重叠，以后的裁剪层中，更多的裁剪物将缩小这一重叠。\n",
    "- crop_n_points_downscale_factor (int):在图层n中每面采样的点数被crop_n_points_downscale_factor**n缩减。\n",
    "- point_grids (list(np.ndarray) or None):用于取样的明确网格的列表，归一化为[0,1]。列表中的第n个网格被用于第n个作物层。与points_per_side排他。\n",
    "- min_mask_region_area (int):如果>0，后处理将被应用于移除面积小于min_mask_region_area的遮罩中的不连接区域和孔。需要opencv。\n",
    "- output_mode (str):掩模的返回形式。可以是’binary_mask’, ‘uncompressed_rle’, 或者’coco_rle’。coco_rle’需要pycocotools。对于大的分辨率，'binary_mask’可能会消耗大量的内存。\n",
    "\n",
    "## SamAutomaticMaskGenerator()参数默认值：\n",
    "- model: Sam,\n",
    "- points_per_side: Optional[int] = 32,\n",
    "- points_per_batch: int = 64,\n",
    "- pred_iou_thresh: float = 0.88,\n",
    "- stability_score_thresh: float = 0.95,\n",
    "- stability_score_offset: float = 1.0,\n",
    "- box_nms_thresh: float = 0.7,\n",
    "- crop_n_layers: int = 0,\n",
    "- crop_nms_thresh: float = 0.7,\n",
    "- crop_overlap_ratio: float = 512 / 1500,\n",
    "- crop_n_points_downscale_factor: int = 1,\n",
    "- point_grids: Optional[List[np.ndarray]] = None,\n",
    "- min_mask_region_area: int = 0,\n",
    "- output_mode: str = “binary_mask”,\n",
    "\n",
    "*原文链接：https://blog.csdn.net/weixin_44386956/article/details/130262260*"
   ]
  },
  {
   "cell_type": "code",
   "execution_count": null,
   "id": "02f64682-7776-4c4b-a074-41ee064ec98c",
   "metadata": {},
   "outputs": [],
   "source": []
  }
 ],
 "metadata": {
  "kernelspec": {
   "display_name": "Python 3 (ipykernel)",
   "language": "python",
   "name": "python3"
  },
  "language_info": {
   "codemirror_mode": {
    "name": "ipython",
    "version": 3
   },
   "file_extension": ".py",
   "mimetype": "text/x-python",
   "name": "python",
   "nbconvert_exporter": "python",
   "pygments_lexer": "ipython3",
   "version": "3.12.5"
  }
 },
 "nbformat": 4,
 "nbformat_minor": 5
}
